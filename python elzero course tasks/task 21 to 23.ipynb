{
 "cells": [
  {
   "cell_type": "code",
   "execution_count": 33,
   "id": "f8c3efc3",
   "metadata": {},
   "outputs": [
    {
     "name": "stdout",
     "output_type": "stream",
     "text": [
      "ehab\n",
      "logy\n"
     ]
    }
   ],
   "source": [
    "whatever = [\"hany\" , \"eman\", \"yasmeen\", \"ehab\", \"mohamed\", \"logy\"]\n",
    "print (whatever[3])\n",
    "print (whatever[-1])"
   ]
  },
  {
   "cell_type": "code",
   "execution_count": 34,
   "id": "2a00042b",
   "metadata": {},
   "outputs": [
    {
     "name": "stdout",
     "output_type": "stream",
     "text": [
      "['hany', 'yasmeen', 'mohamed']\n",
      "['eman', 'ehab', 'logy']\n"
     ]
    }
   ],
   "source": [
    "print (whatever[0 : : 2])\n",
    "print (whatever[1 : : 2])"
   ]
  },
  {
   "cell_type": "code",
   "execution_count": 35,
   "id": "ed6f738d",
   "metadata": {},
   "outputs": [
    {
     "name": "stdout",
     "output_type": "stream",
     "text": [
      "['eman', 'yasmeen', 'ehab']\n",
      "['mohamed', 'logy']\n"
     ]
    }
   ],
   "source": [
    "print (whatever[1 :4])\n",
    "print (whatever[-2 : ])"
   ]
  },
  {
   "cell_type": "code",
   "execution_count": 36,
   "id": "eaabf80b",
   "metadata": {},
   "outputs": [
    {
     "name": "stdout",
     "output_type": "stream",
     "text": [
      "['hany', 'eman', 'yasmeen', 'ehab', 'tasneem', 'menna']\n"
     ]
    }
   ],
   "source": [
    "whatever[-2 : ] = \"tasneem\" , \"menna\"\n",
    "print (whatever)"
   ]
  },
  {
   "cell_type": "code",
   "execution_count": 37,
   "id": "733444d1",
   "metadata": {},
   "outputs": [
    {
     "name": "stdout",
     "output_type": "stream",
     "text": [
      "['hany', 'eman', 'yasmeen', 'ehab', 'tasneem', 'menna', 'mostafa']\n"
     ]
    }
   ],
   "source": [
    "whatever.append(\"mostafa\")\n",
    "print (whatever)"
   ]
  },
  {
   "cell_type": "code",
   "execution_count": 38,
   "id": "8227e9ee",
   "metadata": {},
   "outputs": [
    {
     "name": "stdout",
     "output_type": "stream",
     "text": [
      "['hany', 'eman', 'yasmeen', 'ehab', 'tasneem']\n"
     ]
    }
   ],
   "source": [
    "del whatever[-2:]\n",
    "print(whatever)"
   ]
  },
  {
   "cell_type": "code",
   "execution_count": 39,
   "id": "ad164ea7",
   "metadata": {},
   "outputs": [
    {
     "name": "stdout",
     "output_type": "stream",
     "text": [
      "['hany', 'eman', 'yasmeen', 'ehab', 'tasneem', 'asmaa', 'alaa', 'miar', 'sara']\n"
     ]
    }
   ],
   "source": [
    "whatever2 = [\"asmaa\", \"alaa\"]\n",
    "whatever3 = [\"miar\", \"sara\"]\n",
    "print (whatever + whatever2 + whatever3)"
   ]
  },
  {
   "cell_type": "code",
   "execution_count": 40,
   "id": "3b3532db",
   "metadata": {},
   "outputs": [
    {
     "name": "stdout",
     "output_type": "stream",
     "text": [
      "['ehab', 'eman', 'hany', 'tasneem', 'yasmeen']\n",
      "[-30, -20, -10, 1, 2, 3, 4, 5]\n"
     ]
    }
   ],
   "source": [
    "whatever4 = [1 ,2 ,3 ,4 ,5 ,-10 ,-20 ,-30]\n",
    "whatever4.sort()\n",
    "whatever.sort()\n",
    "print(whatever)\n",
    "print(whatever4)"
   ]
  },
  {
   "cell_type": "code",
   "execution_count": 41,
   "id": "3435b239",
   "metadata": {},
   "outputs": [
    {
     "name": "stdout",
     "output_type": "stream",
     "text": [
      "5\n"
     ]
    }
   ],
   "source": [
    "print(len(whatever))"
   ]
  },
  {
   "cell_type": "code",
   "execution_count": 42,
   "id": "b738c4f1",
   "metadata": {},
   "outputs": [
    {
     "name": "stdout",
     "output_type": "stream",
     "text": [
      "tasneem\n",
      "tasneem\n"
     ]
    }
   ],
   "source": [
    "whatever5 = [\"mohamed\", \"hany\", \"eman\", \"yasmeen\", \"ehab\", \"logy\" , [\"tasneem\", \"menna\"]]\n",
    "print(whatever5[-1][0])\n",
    "print(whatever5[-1][-2])"
   ]
  }
 ],
 "metadata": {
  "kernelspec": {
   "display_name": "Python 3",
   "language": "python",
   "name": "python3"
  },
  "language_info": {
   "codemirror_mode": {
    "name": "ipython",
    "version": 3
   },
   "file_extension": ".py",
   "mimetype": "text/x-python",
   "name": "python",
   "nbconvert_exporter": "python",
   "pygments_lexer": "ipython3",
   "version": "3.13.5"
  }
 },
 "nbformat": 4,
 "nbformat_minor": 5
}
