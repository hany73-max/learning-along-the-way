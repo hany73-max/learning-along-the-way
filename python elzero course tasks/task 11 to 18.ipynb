{
 "cells": [
  {
   "cell_type": "code",
   "execution_count": null,
   "id": "090ace3d",
   "metadata": {},
   "outputs": [],
   "source": [
    "name = \"hany\"\n",
    "age = 20\n",
    "country = \"Egypt\""
   ]
  },
  {
   "cell_type": "code",
   "execution_count": null,
   "id": "8f2abe7a",
   "metadata": {},
   "outputs": [],
   "source": [
    "print(f\"Hello, my name is {name}, I am {age} years old and I live in {country}.\")"
   ]
  },
  {
   "cell_type": "code",
   "execution_count": null,
   "id": "89f5b2ac",
   "metadata": {},
   "outputs": [],
   "source": [
    "print(f\"Hello, my name is {name}\\nI am {age} years old\\nI live in {country}.\")"
   ]
  },
  {
   "cell_type": "code",
   "execution_count": null,
   "id": "d6f32a4f",
   "metadata": {},
   "outputs": [],
   "source": [
    "print(f\"first litter is {name[0]}\")\n",
    "print(f\"third litter is {name[2]}\")\n",
    "print(f\"forth litter is {name[3]}\")"
   ]
  },
  {
   "cell_type": "code",
   "execution_count": null,
   "id": "85608cb2",
   "metadata": {},
   "outputs": [],
   "source": [
    "print(f\"first litter is {name[0:2]}\")\n",
    "print(f\"first litter is {country[0:5:2]}\")"
   ]
  },
  {
   "cell_type": "code",
   "execution_count": null,
   "id": "95df0fb6",
   "metadata": {},
   "outputs": [],
   "source": [
    "name = \"#@#@#@hany#@#@#@\"\n",
    "print(name.strip(\"#@\"))"
   ]
  },
  {
   "cell_type": "code",
   "execution_count": null,
   "id": "04393afc",
   "metadata": {},
   "outputs": [],
   "source": [
    "number1 = \"1\"\n",
    "number2 = \"10\"\n",
    "number3 = \"100\"\n",
    "number4 = \"1000\"\n",
    "number5 = \"10000\"\n",
    "print (number1.zfill(5))\n",
    "print (number2.zfill(5))\n",
    "print (number3.zfill(5))\n",
    "print (number4.zfill(5))\n",
    "print (number5.zfill(5))"
   ]
  },
  {
   "cell_type": "code",
   "execution_count": null,
   "id": "51d04a35",
   "metadata": {},
   "outputs": [],
   "source": [
    "print(name.strip(\"#@\").rjust(15, \"@\"))"
   ]
  },
  {
   "cell_type": "code",
   "execution_count": null,
   "id": "a7dc1eef",
   "metadata": {},
   "outputs": [],
   "source": [
    "name = \"hANy\"\n",
    "print(name.swapcase())"
   ]
  },
  {
   "cell_type": "code",
   "execution_count": null,
   "id": "484ac9cc",
   "metadata": {},
   "outputs": [],
   "source": [
    "msg = \"i hate this fking vacation dude i cant even take a rest, fking sickness\"\n",
    "print(msg.count(\"fking\"))"
   ]
  },
  {
   "cell_type": "code",
   "execution_count": null,
   "id": "afce0a58",
   "metadata": {},
   "outputs": [],
   "source": [
    "name = \"hany\"\n",
    "print(name.index(\"a\"))"
   ]
  },
  {
   "cell_type": "code",
   "execution_count": null,
   "id": "cb8976a4",
   "metadata": {},
   "outputs": [],
   "source": [
    "print(msg.replace(\"fking\" , \"freaking\" , 1))"
   ]
  },
  {
   "cell_type": "code",
   "execution_count": null,
   "id": "01dc349a",
   "metadata": {},
   "outputs": [],
   "source": [
    "print(msg.replace(\"fking\" , \"freaking\"))"
   ]
  },
  {
   "cell_type": "code",
   "execution_count": null,
   "id": "cc20b1d7",
   "metadata": {},
   "outputs": [],
   "source": [
    "# already did the last task before so that enough"
   ]
  }
 ],
 "metadata": {
  "kernelspec": {
   "display_name": "Python 3",
   "language": "python",
   "name": "python3"
  },
  "language_info": {
   "codemirror_mode": {
    "name": "ipython",
    "version": 3
   },
   "file_extension": ".py",
   "mimetype": "text/x-python",
   "name": "python",
   "nbconvert_exporter": "python",
   "pygments_lexer": "ipython3",
   "version": "3.13.5"
  }
 },
 "nbformat": 4,
 "nbformat_minor": 5
}
