{
 "cells": [
  {
   "cell_type": "code",
   "execution_count": null,
   "id": "1e007e9d",
   "metadata": {},
   "outputs": [],
   "source": [
    "names = \"hany\", \n",
    "print(names)\n",
    "print(type(names)) "
   ]
  },
  {
   "cell_type": "code",
   "execution_count": null,
   "id": "c5beaea3",
   "metadata": {},
   "outputs": [],
   "source": [
    "other_names = \"hany\", \"mohamed\", \"ahmed\"\n",
    "#other_names[0] = \"ali\"                            This will raise a TypeError because tuples are immutable\n",
    "#the way to change a tuple is to convert it to a list, change the list, and then convert it back to a tuple\n",
    "names_list = list(other_names)\n",
    "names_list[0] = \"ali\"\n",
    "other_names = tuple(names_list)\n",
    "print(other_names)\n",
    "print(type(other_names))\n",
    "print(f\"the length of the tuple is {len(other_names)} elements\")"
   ]
  },
  {
   "cell_type": "code",
   "execution_count": null,
   "id": "f78721eb",
   "metadata": {},
   "outputs": [],
   "source": [
    "nums = (1, 2, 3)\n",
    "litters = (\"a\", \"b\", \"c\")\n",
    "print(nums + litters)  # Concatenation of tuples\n",
    "print(len(nums + litters))  # Length of the tuple"
   ]
  },
  {
   "cell_type": "code",
   "execution_count": null,
   "id": "2fedf41c",
   "metadata": {},
   "outputs": [],
   "source": [
    "tuple1 = (1, 2, 3, 4)\n",
    "a , b, _, d = tuple1\n",
    "print(a, b, d)  # Output: 1 2 4"
   ]
  }
 ],
 "metadata": {
  "kernelspec": {
   "display_name": "Python 3",
   "language": "python",
   "name": "python3"
  },
  "language_info": {
   "codemirror_mode": {
    "name": "ipython",
    "version": 3
   },
   "file_extension": ".py",
   "mimetype": "text/x-python",
   "name": "python",
   "nbconvert_exporter": "python",
   "pygments_lexer": "ipython3",
   "version": "3.13.5"
  }
 },
 "nbformat": 4,
 "nbformat_minor": 5
}
