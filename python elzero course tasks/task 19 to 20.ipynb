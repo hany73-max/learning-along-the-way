{
 "cells": [
  {
   "cell_type": "code",
   "execution_count": null,
   "id": "15c00e32",
   "metadata": {},
   "outputs": [],
   "source": [
    "num1 = 1+2j\n",
    "print(num.real)\n",
    "print(num.imag)"
   ]
  },
  {
   "cell_type": "code",
   "execution_count": null,
   "id": "c6fd4f1c",
   "metadata": {},
   "outputs": [],
   "source": [
    "num2 = 10\n",
    "print(f\"{num2:.10f}\")"
   ]
  },
  {
   "cell_type": "code",
   "execution_count": null,
   "id": "ffdf9d30",
   "metadata": {},
   "outputs": [],
   "source": [
    "num3 = 159.254\n",
    "print(f\"{int(num3)}\")"
   ]
  },
  {
   "cell_type": "code",
   "execution_count": 14,
   "id": "ddb556f5",
   "metadata": {},
   "outputs": [
    {
     "name": "stdout",
     "output_type": "stream",
     "text": [
      "-15\n",
      "1500\n",
      "1\n",
      "10.0\n",
      "8\n",
      "4\n"
     ]
    }
   ],
   "source": [
    "print(100 - 115)\n",
    "print(50 * 30)\n",
    "print (21 % 4)\n",
    "print(110 / 11)\n",
    "print(2 ** 3)\n",
    "print(97 // 20)"
   ]
  }
 ],
 "metadata": {
  "kernelspec": {
   "display_name": "Python 3",
   "language": "python",
   "name": "python3"
  },
  "language_info": {
   "codemirror_mode": {
    "name": "ipython",
    "version": 3
   },
   "file_extension": ".py",
   "mimetype": "text/x-python",
   "name": "python",
   "nbconvert_exporter": "python",
   "pygments_lexer": "ipython3",
   "version": "3.13.5"
  }
 },
 "nbformat": 4,
 "nbformat_minor": 5
}
