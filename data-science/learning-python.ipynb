{
 "cells": [
  {
   "cell_type": "markdown",
   "id": "2d8a7e01",
   "metadata": {},
   "source": [
    "# lists..."
   ]
  },
  {
   "cell_type": "markdown",
   "id": "c2e5bd3f",
   "metadata": {},
   "source": []
  },
  {
   "cell_type": "code",
   "execution_count": null,
   "id": "39ef5b3e",
   "metadata": {},
   "outputs": [],
   "source": [
    "names_list = [\"Alice\", \"Bob\", \"Charlie\", \"Diana\"]\n",
    "\n",
    "names_list[0] = \"hany\"                               # change the first element of the names_list to \"hany\"\n",
    "print(names_list)\n",
    "\n",
    "print(names_list.index(\"Charlie\"))                   # find the index of \"Charlie\" in names_list\n",
    "\n",
    "print(names_list.count(\"Alice\"))                     # count how many times \"Alice\" appears in names_list"
   ]
  },
  {
   "cell_type": "markdown",
   "id": "57351f98",
   "metadata": {},
   "source": [
    "### adding methods list"
   ]
  },
  {
   "cell_type": "code",
   "execution_count": null,
   "id": "f6f532f6",
   "metadata": {},
   "outputs": [],
   "source": [
    "names_2_list = [\"Eve\", \"Frank\", \"Grace\", \"Heidi\"]\n",
    "\n",
    "List = names_list + names_2_list                     # concatenate names_list and names_2_list\n",
    "print(List)\n",
    "\n",
    "List.append(\"Ivan\")                                   # add \"Ivan\" to the end of List\n",
    "print(List)\n",
    "\n",
    "List.insert(0, \"Jack\")                               # insert \"Jack\" at index 2 of List\n",
    "print(List)"
   ]
  },
  {
   "cell_type": "markdown",
   "id": "d93b51de",
   "metadata": {},
   "source": [
    "### copying methods list"
   ]
  },
  {
   "cell_type": "code",
   "execution_count": null,
   "id": "9f7eaef8",
   "metadata": {},
   "outputs": [],
   "source": [
    "print(names_list)\n",
    "\n",
    "new_names_list = names_list.copy()         # create a copy of the list\n",
    "print(new_names_list)\n",
    "\n",
    "new_names_list_2 = names_list              # create a reference to the original list\n",
    "print(new_names_list_2)                    "
   ]
  },
  {
   "cell_type": "markdown",
   "id": "6917a51c",
   "metadata": {},
   "source": [
    "### removing methods list"
   ]
  },
  {
   "cell_type": "code",
   "execution_count": null,
   "id": "4263d046",
   "metadata": {},
   "outputs": [],
   "source": [
    "print(names_list)\n",
    "\n",
    "names_list.remove(\"Charlie\")       # remove \"Charlie\" from the list\n",
    "print(names_list)\n",
    "\n",
    "names_list.pop(0)                  # remove the first element of the list and return it\n",
    "print(names_list)\n",
    "\n",
    "del names_list[0]                  # delete the first element of the list\n",
    "print(names_list)\n"
   ]
  },
  {
   "cell_type": "markdown",
   "id": "c3c87340",
   "metadata": {},
   "source": [
    "# dictionary..."
   ]
  },
  {
   "cell_type": "code",
   "execution_count": null,
   "id": "ab21638c",
   "metadata": {},
   "outputs": [],
   "source": [
    "my_data_dict = {\n",
    "    \"name\": \"hany\",\n",
    "    \"age\": 20,\n",
    "    \"city\": \"tanta\",}\n",
    "\n",
    "print(my_data_dict.keys())                       # print the keys of the dictionary\n",
    "\n",
    "print(my_data_dict.values())                     # print the values of the dictionary\n",
    "\n",
    "print(my_data_dict)                              # print the whole dictionary\n",
    "\n",
    "print(my_data_dict.items())                      # print the items of the dictionary\n",
    "\n",
    "print(my_data_dict.get(\"name\"))                  # print the value of the key \"name\"\n",
    "\n",
    "print(my_data_dict.get(\"country\", \"not found\"))  # print the value of the key \"country\" or \"not found\" if it does not exist\n",
    "\n",
    "my_data_dict[\"country\"] = \"Egypt\"                # add a new key-value pair to the dictionary\n",
    "print(my_data_dict.values())                     \n",
    "\n",
    "my_data_dict.update({\"age\" : 21})                # update the value of the key \"age\"\n",
    "print(my_data_dict.get(\"age\"))"
   ]
  },
  {
   "cell_type": "markdown",
   "id": "735a2d9b",
   "metadata": {},
   "source": [
    "### copying methods dict"
   ]
  },
  {
   "cell_type": "code",
   "execution_count": null,
   "id": "f0c05f13",
   "metadata": {},
   "outputs": [],
   "source": [
    "print(my_data_dict)\n",
    "\n",
    "new_data_dict = my_data_dict.copy()        # create a copy of the dictionary\n",
    "print(new_data_dict)\n",
    "\n",
    "new_data_dict_2 = my_data_dict             # create a reference to the original dictionary\n",
    "print(new_data_dict_2)"
   ]
  },
  {
   "cell_type": "markdown",
   "id": "854a3a86",
   "metadata": {},
   "source": [
    "### deleting methods dict"
   ]
  },
  {
   "cell_type": "code",
   "execution_count": null,
   "id": "e1b83cd1",
   "metadata": {},
   "outputs": [],
   "source": [
    "print(my_data_dict)   \n",
    "\n",
    "# my_data_dict.remove(\"city\")        # dicts do not have a remove method, use del instead\n",
    "# print(my_data_dict)\n",
    "\n",
    "del my_data_dict[\"city\"]             # delete the key \"city\" from the dictionary\n",
    "print(my_data_dict)\n",
    "\n",
    "my_data_dict.pop(\"age\")              # remove the key \"age\" from the dictionary and return its value\n",
    "print(my_data_dict)\n"
   ]
  }
 ],
 "metadata": {
  "kernelspec": {
   "display_name": "Python 3",
   "language": "python",
   "name": "python3"
  },
  "language_info": {
   "codemirror_mode": {
    "name": "ipython",
    "version": 3
   },
   "file_extension": ".py",
   "mimetype": "text/x-python",
   "name": "python",
   "nbconvert_exporter": "python",
   "pygments_lexer": "ipython3",
   "version": "3.13.5"
  }
 },
 "nbformat": 4,
 "nbformat_minor": 5
}
