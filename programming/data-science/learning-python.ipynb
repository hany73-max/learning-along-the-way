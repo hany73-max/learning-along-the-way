{
 "cells": [
  {
   "cell_type": "markdown",
   "id": "2d8a7e01",
   "metadata": {},
   "source": [
    "# lists..."
   ]
  },
  {
   "cell_type": "markdown",
   "id": "c2e5bd3f",
   "metadata": {},
   "source": []
  },
  {
   "cell_type": "code",
   "execution_count": 105,
   "id": "39ef5b3e",
   "metadata": {},
   "outputs": [
    {
     "name": "stdout",
     "output_type": "stream",
     "text": [
      "['Alice', 'Bob', 'Charlie', 'Diana', 'Eve', 'Frank', 'Grace', 'Heidi']\n",
      "['hany', 'Bob', 'Charlie', 'Diana', 'Eve', 'Frank', 'Grace', 'Heidi']\n",
      "7\n",
      "0\n",
      "['hany', 'Bob', 'Charlie']\n"
     ]
    }
   ],
   "source": [
    "names_list = [\"Alice\", \"Bob\", \"Charlie\", \"Diana\"]\n",
    "names_2_list = [\"Eve\", \"Frank\", \"Grace\", \"Heidi\"]\n",
    "list = names_list + names_2_list            # concatenate the two lists\n",
    "print(list)\n",
    "list[0] = \"hany\"                            # change the first element of the list to \"hany\"\n",
    "print(list)\n",
    "print(list.index(\"Heidi\"))                  # print the index of \"Heidi\" in the list\n",
    "print(list.count(\"Alice\"))                  # print the count of \"Alice\" in the list\n",
    "print(list[0:3])                            # print the first three elements of the list"
   ]
  },
  {
   "cell_type": "markdown",
   "id": "57351f98",
   "metadata": {},
   "source": [
    "### adding methods list"
   ]
  },
  {
   "cell_type": "code",
   "execution_count": null,
   "id": "3f1d8e66",
   "metadata": {},
   "outputs": [
    {
     "name": "stdout",
     "output_type": "stream",
     "text": [
      "['hany', 'Bob', 'Charlie', 'Diana', 'Eve', 'Frank', 'Grace', 'Heidi']\n"
     ]
    }
   ],
   "source": []
  },
  {
   "cell_type": "markdown",
   "id": "d93b51de",
   "metadata": {},
   "source": [
    "### copying methods list"
   ]
  },
  {
   "cell_type": "code",
   "execution_count": 107,
   "id": "9f7eaef8",
   "metadata": {},
   "outputs": [
    {
     "name": "stdout",
     "output_type": "stream",
     "text": [
      "['Alice', 'Bob', 'Charlie', 'Diana']\n",
      "['Alice', 'Bob', 'Charlie', 'Diana']\n",
      "['Alice', 'Bob', 'Charlie', 'Diana']\n"
     ]
    }
   ],
   "source": [
    "print(names_list)\n",
    "new_names_list = names_list.copy()         # create a copy of the list\n",
    "print(new_names_list)\n",
    "new_names_list_2 = names_list              # create a reference to the original list\n",
    "print(new_names_list_2)                    # this will print the same list as new_names_list"
   ]
  },
  {
   "cell_type": "markdown",
   "id": "6917a51c",
   "metadata": {},
   "source": [
    "### removing methods list"
   ]
  },
  {
   "cell_type": "code",
   "execution_count": 108,
   "id": "4263d046",
   "metadata": {},
   "outputs": [
    {
     "name": "stdout",
     "output_type": "stream",
     "text": [
      "['Alice', 'Bob', 'Charlie', 'Diana']\n",
      "['Alice', 'Bob', 'Diana']\n",
      "['Bob', 'Diana']\n",
      "['Diana']\n"
     ]
    }
   ],
   "source": [
    "print(names_list)\n",
    "names_list.remove(\"Charlie\")       # remove \"Charlie\" from the list\n",
    "print(names_list)\n",
    "names_list.pop(0)                  # remove the first element of the list and return it\n",
    "print(names_list)\n",
    "del names_list[0]                  # delete the first element of the list\n",
    "print(names_list)\n"
   ]
  },
  {
   "cell_type": "markdown",
   "id": "c3c87340",
   "metadata": {},
   "source": [
    "# dictionary..."
   ]
  },
  {
   "cell_type": "code",
   "execution_count": 109,
   "id": "ab21638c",
   "metadata": {},
   "outputs": [
    {
     "name": "stdout",
     "output_type": "stream",
     "text": [
      "dict_keys(['name', 'age', 'city'])\n",
      "dict_values(['hany', 20, 'tanta'])\n",
      "{'name': 'hany', 'age': 20, 'city': 'tanta'}\n",
      "dict_items([('name', 'hany'), ('age', 20), ('city', 'tanta')])\n",
      "hany\n",
      "not found\n",
      "dict_values(['hany', 20, 'tanta', 'Egypt'])\n",
      "21\n"
     ]
    }
   ],
   "source": [
    "my_data_dict = {\n",
    "    \"name\": \"hany\",\n",
    "    \"age\": 20,\n",
    "    \"city\": \"tanta\",}\n",
    "print(my_data_dict.keys())                       # print the keys of the dictionary\n",
    "print(my_data_dict.values())                     # print the values of the dictionary\n",
    "print(my_data_dict)                              # print the whole dictionary\n",
    "print(my_data_dict.items())                      # print the items of the dictionary\n",
    "print(my_data_dict.get(\"name\"))                  # print the value of the key \"name\"\n",
    "print(my_data_dict.get(\"country\", \"not found\"))  # print the value of the key \"country\" or \"not found\" if it does not exist\n",
    "my_data_dict[\"country\"] = \"Egypt\"                # add a new key-value pair to the dictionary\n",
    "print(my_data_dict.values())                     \n",
    "my_data_dict.update({\"age\" : 21})                # update the value of the key \"age\"\n",
    "print(my_data_dict.get(\"age\"))"
   ]
  },
  {
   "cell_type": "markdown",
   "id": "735a2d9b",
   "metadata": {},
   "source": [
    "### copying methods dict"
   ]
  },
  {
   "cell_type": "code",
   "execution_count": 110,
   "id": "f0c05f13",
   "metadata": {},
   "outputs": [
    {
     "name": "stdout",
     "output_type": "stream",
     "text": [
      "{'name': 'hany', 'age': 21, 'city': 'tanta', 'country': 'Egypt'}\n",
      "{'name': 'hany', 'age': 21, 'city': 'tanta', 'country': 'Egypt'}\n",
      "{'name': 'hany', 'age': 21, 'city': 'tanta', 'country': 'Egypt'}\n"
     ]
    }
   ],
   "source": [
    "print(my_data_dict)\n",
    "new_data_dict = my_data_dict.copy()\n",
    "print(new_data_dict)\n",
    "new_data_dict_2 = my_data_dict\n",
    "print(new_data_dict_2)"
   ]
  },
  {
   "cell_type": "markdown",
   "id": "854a3a86",
   "metadata": {},
   "source": [
    "### deleting methods dict"
   ]
  },
  {
   "cell_type": "code",
   "execution_count": 111,
   "id": "e1b83cd1",
   "metadata": {},
   "outputs": [
    {
     "name": "stdout",
     "output_type": "stream",
     "text": [
      "{'name': 'hany', 'age': 21, 'city': 'tanta', 'country': 'Egypt'}\n",
      "{'name': 'hany', 'age': 21, 'country': 'Egypt'}\n",
      "{'name': 'hany', 'country': 'Egypt'}\n"
     ]
    }
   ],
   "source": [
    "print(my_data_dict)   \n",
    "# my_data_dict.remove(\"city\")        # dicts do not have a remove method, use del instead\n",
    "# print(my_data_dict)\n",
    "del my_data_dict[\"city\"]             # delete the key \"city\" from the dictionary\n",
    "print(my_data_dict)\n",
    "my_data_dict.pop(\"age\")              # remove the key \"age\" from the dictionary and return its value\n",
    "print(my_data_dict)\n"
   ]
  }
 ],
 "metadata": {
  "kernelspec": {
   "display_name": "Python 3",
   "language": "python",
   "name": "python3"
  },
  "language_info": {
   "codemirror_mode": {
    "name": "ipython",
    "version": 3
   },
   "file_extension": ".py",
   "mimetype": "text/x-python",
   "name": "python",
   "nbconvert_exporter": "python",
   "pygments_lexer": "ipython3",
   "version": "3.13.5"
  }
 },
 "nbformat": 4,
 "nbformat_minor": 5
}
