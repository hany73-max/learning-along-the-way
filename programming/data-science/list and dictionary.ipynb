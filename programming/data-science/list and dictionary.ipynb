{
 "cells": [
  {
   "cell_type": "markdown",
   "id": "2d8a7e01",
   "metadata": {},
   "source": [
    "# lists..."
   ]
  },
  {
   "cell_type": "code",
   "execution_count": null,
   "id": "39ef5b3e",
   "metadata": {},
   "outputs": [],
   "source": [
    "names_list = [\"Alice\", \"Bob\", \"Charlie\", \"Diana\"]\n",
    "\n",
    "names_list[0] = \"hany\"                            # change the first element of the list to \"hany\"\n",
    "print(names_list)\n",
    "\n",
    "print(names_list.index(\"Bob\"))                    # print the index of \"Bob\" in the list\n",
    "\n",
    "print(names_list.count(\"Alice\"))                  # print the count of \"Alice\" in the list\n",
    "\n",
    "print(names_list[0:3])                            # print the first three elements of the list"
   ]
  },
  {
   "cell_type": "markdown",
   "id": "57351f98",
   "metadata": {},
   "source": [
    "### adding methods list"
   ]
  },
  {
   "cell_type": "code",
   "execution_count": null,
   "id": "3f1d8e66",
   "metadata": {},
   "outputs": [],
   "source": [
    "names_list_2 = [\"Eve\", \"Frank\", \"Grace\", \"Heidi\"]\n",
    "\n",
    "list_combined = names_list + names_list_2            # concatenate the two lists\n",
    "print(list_combined)\n",
    "\n",
    "list_combined.append(\"Jack\")                         # add \"Jack\" to the end of the list\n",
    "print(list_combined)\n",
    "\n",
    "list_combined.insert(2, \"Kathy\")                     # insert \"Kathy\" at index 2\n",
    "print(list_combined)"
   ]
  },
  {
   "cell_type": "markdown",
   "id": "6917a51c",
   "metadata": {},
   "source": [
    "### removing methods list"
   ]
  },
  {
   "cell_type": "code",
   "execution_count": null,
   "id": "4263d046",
   "metadata": {},
   "outputs": [],
   "source": [
    "print(names_list)\n",
    "\n",
    "names_list.remove(\"Charlie\")       # remove \"Charlie\" from the list\n",
    "print(names_list)\n",
    "\n",
    "names_list.pop(0)                  # remove the first element of the list and return it\n",
    "print(names_list)\n",
    "\n",
    "del names_list[0]                  # delete the first element of the list\n",
    "print(names_list)\n"
   ]
  },
  {
   "cell_type": "markdown",
   "id": "d93b51de",
   "metadata": {},
   "source": [
    "### copying methods list"
   ]
  },
  {
   "cell_type": "code",
   "execution_count": null,
   "id": "9f7eaef8",
   "metadata": {},
   "outputs": [],
   "source": [
    "print(names_list)\n",
    "\n",
    "new_names_list = names_list.copy()         # create a copy of the list\n",
    "print(new_names_list)\n",
    "\n",
    "new_names_list_2 = names_list              # create a reference to the original list\n",
    "print(new_names_list_2)                   "
   ]
  },
  {
   "cell_type": "markdown",
   "id": "c3c87340",
   "metadata": {},
   "source": [
    "# dictionary..."
   ]
  },
  {
   "cell_type": "code",
   "execution_count": null,
   "id": "ab21638c",
   "metadata": {},
   "outputs": [],
   "source": [
    "my_data_dict = {\n",
    "    \"name\": \"hany\",\n",
    "    \"age\": 20,\n",
    "    \"city\": \"tanta\",}\n",
    "\n",
    "print(my_data_dict.keys())                       # print the keys of the dictionary\n",
    "\n",
    "print(my_data_dict.values())                     # print the values of the dictionary\n",
    "\n",
    "print(my_data_dict)                              # print the whole dictionary\n",
    "\n",
    "print(my_data_dict.items())                      # print the items of the dictionary\n",
    "\n",
    "print(my_data_dict.get(\"name\"))                  # print the value of the key \"name\"\n",
    "\n",
    "print(my_data_dict.get(\"country\", \"not found\"))  # print the value of the key \"country\" or \"not found\" if it does not exist\n",
    "\n",
    "my_data_dict.update({\"age\" : 21})                # update the value of the key \"age\"\n",
    "print(my_data_dict.get(\"age\"))"
   ]
  },
  {
   "cell_type": "markdown",
   "id": "501d5322",
   "metadata": {},
   "source": [
    "### adding methods dict"
   ]
  },
  {
   "cell_type": "code",
   "execution_count": null,
   "id": "98019ace",
   "metadata": {},
   "outputs": [],
   "source": [
    "print(my_data_dict)\n",
    "\n",
    "my_data_dict[\"country\"] = \"Egypt\"                            # add a new key-value pair to the dictionary\n",
    "print(my_data_dict.values())                     \n",
    "\n",
    "my_data_dict.update({\"country\": \"germany\", \"sex\": \"male\"})     # update and add keys at once\n",
    "print(my_data_dict)"
   ]
  },
  {
   "cell_type": "markdown",
   "id": "854a3a86",
   "metadata": {},
   "source": [
    "### removing methods dict"
   ]
  },
  {
   "cell_type": "code",
   "execution_count": null,
   "id": "e1b83cd1",
   "metadata": {},
   "outputs": [],
   "source": [
    "print(my_data_dict)   \n",
    "\n",
    "# my_data_dict.remove(\"city\")        # dicts do not have a remove method, use del instead\n",
    "# print(my_data_dict)\n",
    "\n",
    "del my_data_dict[\"city\"]             # delete the key \"city\" from the dictionary\n",
    "print(my_data_dict)\n",
    "\n",
    "my_data_dict.pop(\"age\")              # remove the key \"age\" from the dictionary and return its value\n",
    "print(my_data_dict)\n"
   ]
  },
  {
   "cell_type": "markdown",
   "id": "735a2d9b",
   "metadata": {},
   "source": [
    "### copying methods dict"
   ]
  },
  {
   "cell_type": "code",
   "execution_count": null,
   "id": "f0c05f13",
   "metadata": {},
   "outputs": [],
   "source": [
    "print(my_data_dict)\n",
    "\n",
    "new_data_dict = my_data_dict.copy()         # create a copy of the dictionary\n",
    "print(new_data_dict)\n",
    "\n",
    "new_data_dict_2 = my_data_dict              # create a reference to the original dictionary\n",
    "print(new_data_dict_2)"
   ]
  },
  {
   "cell_type": "markdown",
   "id": "c05a9cba",
   "metadata": {},
   "source": [
    "# methods..."
   ]
  },
  {
   "cell_type": "code",
   "execution_count": null,
   "id": "faa54e32",
   "metadata": {},
   "outputs": [],
   "source": [
    "my_set = {1, 2, 3, 4, 5}                           # create a set\n",
    "my_set_2 = {6, 7, 8, 9, 10}                        # create another set\n",
    "\n",
    "my_set.add(11)                                     # add an element to the set\n",
    "print(my_set)\n",
    "\n",
    "my_set.update(my_set_2)                            # update the set with another set\n",
    "print(my_set)\n",
    "\n",
    "my_set.discard(1)                                  # remove an element from the set if it exists\n",
    "print(my_set)   \n",
    "\n",
    "my_set.remove(2)                                   # remove an element from the set, raises KeyError if it does not exist\n",
    "print(my_set)  \n",
    "\n",
    "my_set.pop()                                       # remove and return an arbitrary element from the set\n",
    "print(my_set)\n",
    "\n",
    "my_set.clear()                                     # remove all elements from the set\n",
    "print(my_set)       \n",
    "\n",
    "my_set = {1, 2, 3, 4, 5}                           # create a set\n",
    "my_set_2 = {4, 5, 6, 7, 8}                         # create another set\n",
    "\n",
    "print(my_set.union(my_set_2))                      # union of two sets\n",
    "print(my_set | my_set_2)                           # union using the | operator\n",
    "\n",
    "print(my_set.intersection(my_set_2))               # intersection of two sets\n",
    "print(my_set & my_set_2)                           # intersection using the & operator\n",
    "\n",
    "print(my_set.difference(my_set_2))                 # difference of two sets\n",
    "print(my_set - my_set_2)                           # difference using the - operator\n",
    "\n",
    "print(my_set.symmetric_difference(my_set_2))       # symmetric difference of two sets\n",
    "print(my_set ^ my_set_2)                           # symmetric difference using the ^ operator\n",
    "\n",
    "print(my_set.isdisjoint(my_set_2))                 # check if two sets are disjoint\n",
    "print(my_set.isdisjoint({10, 11, 12}))             # check if two sets are disjoint with a set that has no common elements\n",
    "\n",
    "print(my_set.issubset(my_set_2))                   # check if one set is a subset of another\n",
    "print(my_set <= my_set_2)                           # subset using the <= operator\n",
    "\n",
    "print(my_set.issuperset(my_set_2))                 # check if one set is a superset of another\n",
    "print(my_set >= my_set_2)                           # superset using the >= operator"
   ]
  }
 ],
 "metadata": {
  "kernelspec": {
   "display_name": "Python 3",
   "language": "python",
   "name": "python3"
  },
  "language_info": {
   "codemirror_mode": {
    "name": "ipython",
    "version": 3
   },
   "file_extension": ".py",
   "mimetype": "text/x-python",
   "name": "python",
   "nbconvert_exporter": "python",
   "pygments_lexer": "ipython3",
   "version": "3.13.5"
  }
 },
 "nbformat": 4,
 "nbformat_minor": 5
}
