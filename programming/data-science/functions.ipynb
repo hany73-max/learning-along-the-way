{
 "cells": [
  {
   "cell_type": "markdown",
   "id": "c509fca2",
   "metadata": {},
   "source": [
    "# functions"
   ]
  },
  {
   "cell_type": "code",
   "execution_count": null,
   "id": "b39f2c0b",
   "metadata": {},
   "outputs": [],
   "source": [
    "def function_name(parameters):\n",
    "    # code to execute\n",
    "    return result                   # Replace 'result' with the actual value to return"
   ]
  },
  {
   "cell_type": "code",
   "execution_count": null,
   "id": "65d6c703",
   "metadata": {},
   "outputs": [],
   "source": [
    "def sum(x,y):                      #  defining a function named sum\n",
    "    z = x + y                      #  code to be executed\n",
    "    return z                       #  returning the result\n",
    "\n",
    "print(sum(2,3))                    #  calling the function"
   ]
  },
  {
   "cell_type": "markdown",
   "id": "65990e13",
   "metadata": {},
   "source": [
    "# built in functions "
   ]
  },
  {
   "cell_type": "code",
   "execution_count": null,
   "id": "93372c04",
   "metadata": {},
   "outputs": [],
   "source": [
    "h = \"hany\"\n",
    "print(len(h))                          #  printing the length of the string\n",
    "\n",
    "nums = [1, 2, 3, 4, 5]              \n",
    "print(max(nums))                       #  printing the maximum value in the list\n",
    "\n",
    "print(min(nums))                       #  printing the minimum value in the list\n",
    "\n",
    "print(type(nums))                      #  printing the type of the variable nums\n",
    "\n",
    "print(range(1,11))                     #  printing a range of numbers from 1 to 10\n",
    "for i in range(1, 11 , 2):             #  iterating through the range with a step of 2\n",
    "    print(i)                           #  printing each number in the range\n",
    "\n"
   ]
  }
 ],
 "metadata": {
  "kernelspec": {
   "display_name": "Python 3",
   "language": "python",
   "name": "python3"
  },
  "language_info": {
   "codemirror_mode": {
    "name": "ipython",
    "version": 3
   },
   "file_extension": ".py",
   "mimetype": "text/x-python",
   "name": "python",
   "nbconvert_exporter": "python",
   "pygments_lexer": "ipython3",
   "version": "3.13.5"
  }
 },
 "nbformat": 4,
 "nbformat_minor": 5
}
