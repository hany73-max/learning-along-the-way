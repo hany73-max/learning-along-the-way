{
 "cells": [
  {
   "cell_type": "markdown",
   "id": "c509fca2",
   "metadata": {},
   "source": [
    "# functions"
   ]
  },
  {
   "cell_type": "code",
   "execution_count": null,
   "id": "b39f2c0b",
   "metadata": {},
   "outputs": [],
   "source": [
    "def function_name(parameters):\n",
    "    # code to execute\n",
    "    return result  # Replace 'result' with the actual value to return"
   ]
  },
  {
   "cell_type": "code",
   "execution_count": 1,
   "id": "65d6c703",
   "metadata": {},
   "outputs": [],
   "source": [
    "def sum(x,y):\n",
    "    z = x + y\n",
    "    return z"
   ]
  }
 ],
 "metadata": {
  "kernelspec": {
   "display_name": "Python 3",
   "language": "python",
   "name": "python3"
  },
  "language_info": {
   "codemirror_mode": {
    "name": "ipython",
    "version": 3
   },
   "file_extension": ".py",
   "mimetype": "text/x-python",
   "name": "python",
   "nbconvert_exporter": "python",
   "pygments_lexer": "ipython3",
   "version": "3.13.5"
  }
 },
 "nbformat": 4,
 "nbformat_minor": 5
}
