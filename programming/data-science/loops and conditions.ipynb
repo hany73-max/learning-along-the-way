{
 "cells": [
  {
   "cell_type": "markdown",
   "id": "8bda3c9e",
   "metadata": {},
   "source": [
    "# If..."
   ]
  },
  {
   "cell_type": "code",
   "execution_count": null,
   "id": "a1d49b2c",
   "metadata": {},
   "outputs": [],
   "source": [
    "if <condition>:\n",
    "    # code to execute if condition is true\n",
    "elif <another_condition>:\n",
    "    # code to execute if another condition is true\n",
    "else:\n",
    "    # code to execute if condition is false"
   ]
  },
  {
   "cell_type": "code",
   "execution_count": null,
   "id": "b4537285",
   "metadata": {},
   "outputs": [],
   "source": [
    "age = int(input(\"Please enter your age: \"))             # Input age from user\n",
    "\n",
    "if age >= 50:                                           # Check if age is 50 or older (condition)\n",
    "    print(\"You are a senior citizen.\")                  # output if the condition is true\n",
    "\n",
    "elif age >= 18 and age < 50:                            # Check if age is between 18 and 49 (condition)\n",
    "    print(\"You are an adult.\")                          # output if the condition is true\n",
    "\n",
    "else:                                                   # If none of the above conditions are true\n",
    "    print(\"You are a minor.\")                           # last output"
   ]
  },
  {
   "cell_type": "markdown",
   "id": "968b8c55",
   "metadata": {},
   "source": [
    "# For loop..."
   ]
  },
  {
   "cell_type": "markdown",
   "id": "39f93794",
   "metadata": {},
   "source": [
    "### (for) fundamentals"
   ]
  },
  {
   "cell_type": "code",
   "execution_count": null,
   "id": "0999d9f5",
   "metadata": {},
   "outputs": [],
   "source": [
    "for <variable> in <iterable>:\n",
    "    # code to execute for each item in the iterable"
   ]
  },
  {
   "cell_type": "code",
   "execution_count": null,
   "id": "b3f1b690",
   "metadata": {},
   "outputs": [],
   "source": [
    "names = [\"Alice\", \"Bob\", \"Charlie\", \"Diana\", \"Ethan\"] \n",
    "\n",
    "for i, name in enumerate(names):               # enumerate means to get both index and value\n",
    "    print(f\"{i + 1}. {name}\")                  # Print each name with its index"
   ]
  },
  {
   "cell_type": "markdown",
   "id": "180cf13d",
   "metadata": {},
   "source": [
    "### (for) used for inputing values "
   ]
  },
  {
   "cell_type": "code",
   "execution_count": null,
   "id": "2a121616",
   "metadata": {},
   "outputs": [],
   "source": [
    "countries = []\n",
    "\n",
    "for i in range(1,10):                                           # Start an infinite loop\n",
    "    country = input(\"Enter a country (or 'done' to finish): \")  # Input country from user\n",
    "    if country.lower() == 'done':                               # Check if the input is 'done'\n",
    "        break                                                   # Exit the loop if 'done' is entered\n",
    "    countries.append(country)                                   # Add the country to the list\n",
    "print(\"You have entered the following countries:\")\n",
    "for country in countries:                       \n",
    "    print(country)                                              # Print each country in the list"
   ]
  },
  {
   "cell_type": "markdown",
   "id": "9c4b0433",
   "metadata": {},
   "source": [
    "### (for) with dictionaries"
   ]
  },
  {
   "cell_type": "code",
   "execution_count": null,
   "id": "da3148df",
   "metadata": {},
   "outputs": [],
   "source": [
    "whatever = {\n",
    "    \"name\": \"Alice\",\n",
    "    \"age\": 30,\n",
    "    \"city\": \"New York\"}\n",
    "\n",
    "for key, value in whatever.items():                # Loop through each key-value pair in the dictionary\n",
    "    print(f\"{key}: {value}\")                       # Print the key and its corresponding value"
   ]
  }
 ],
 "metadata": {
  "kernelspec": {
   "display_name": "Python 3",
   "language": "python",
   "name": "python3"
  },
  "language_info": {
   "codemirror_mode": {
    "name": "ipython",
    "version": 3
   },
   "file_extension": ".py",
   "mimetype": "text/x-python",
   "name": "python",
   "nbconvert_exporter": "python",
   "pygments_lexer": "ipython3",
   "version": "3.13.5"
  }
 },
 "nbformat": 4,
 "nbformat_minor": 5
}
