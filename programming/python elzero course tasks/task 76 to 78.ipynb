{
 "cells": [
  {
   "cell_type": "code",
   "execution_count": 8,
   "id": "6cfde4dd",
   "metadata": {},
   "outputs": [
    {
     "name": "stdout",
     "output_type": "stream",
     "text": [
      "random number:  93\n",
      "even random number:  6\n",
      "odd random number:  5\n",
      "['BPF', 'LOG4', 'NV_MAGICCONST', 'RECIP_BPF', 'Random', 'SG_MAGICCONST', 'SystemRandom', 'TWOPI', '_ONE', '_Sequence', '__all__', '__builtins__', '__cached__', '__doc__', '__file__', '__loader__', '__name__', '__package__', '__spec__', '_accumulate', '_acos', '_bisect', '_ceil', '_cos', '_e', '_exp', '_fabs', '_floor', '_index', '_inst', '_isfinite', '_lgamma', '_log', '_log2', '_os', '_parse_args', '_pi', '_random', '_repeat', '_sha512', '_sin', '_sqrt', '_test', '_test_generator', '_urandom', 'betavariate', 'binomialvariate', 'choice', 'choices', 'expovariate', 'gammavariate', 'gauss', 'getrandbits', 'getstate', 'lognormvariate', 'main', 'normalvariate', 'paretovariate', 'randbytes', 'randint', 'random', 'randrange', 'sample', 'seed', 'setstate', 'shuffle', 'triangular', 'uniform', 'vonmisesvariate', 'weibullvariate']\n"
     ]
    }
   ],
   "source": [
    "import random\n",
    "\n",
    "print(f\"random number:  {random.randint(1,100)}\")\n",
    "print(f\"even random number:  {random.choice([x for x in range(2, 11) if x % 2 == 0])}\")\n",
    "print(f\"odd random number:  {random.choice([x for x in range(2, 11) if x % 2 != 0])}\")\n",
    "print(dir(random))"
   ]
  },
  {
   "cell_type": "code",
   "execution_count": 9,
   "id": "bdbfbfe5",
   "metadata": {},
   "outputs": [
    {
     "name": "stdout",
     "output_type": "stream",
     "text": [
      "Hello Hany\n",
      "Welcome Hany\n"
     ]
    }
   ],
   "source": [
    "import sys\n",
    "sys.path.append(r\"D:\\github\\learning-along-the-way\\programming\\python elzero course tasks\\module_testing\")\n",
    "import my_mod\n",
    "print(my_mod.say_hello(\"Hany\"))\n",
    "print(my_mod.say_welcome(\"Hany\"))"
   ]
  },
  {
   "cell_type": "code",
   "execution_count": 10,
   "id": "35b57a37",
   "metadata": {},
   "outputs": [
    {
     "name": "stdout",
     "output_type": "stream",
     "text": [
      "Hello Hany\n"
     ]
    }
   ],
   "source": [
    "from my_mod import say_hello\n",
    "print(say_hello(\"Hany\"))"
   ]
  },
  {
   "cell_type": "code",
   "execution_count": 11,
   "id": "1c903ad3",
   "metadata": {},
   "outputs": [
    {
     "name": "stdout",
     "output_type": "stream",
     "text": [
      "Hello Hany\n"
     ]
    }
   ],
   "source": [
    "from my_mod import say_hello as hello\n",
    "print(hello(\"Hany\"))"
   ]
  }
 ],
 "metadata": {
  "kernelspec": {
   "display_name": "Python 3",
   "language": "python",
   "name": "python3"
  },
  "language_info": {
   "codemirror_mode": {
    "name": "ipython",
    "version": 3
   },
   "file_extension": ".py",
   "mimetype": "text/x-python",
   "name": "python",
   "nbconvert_exporter": "python",
   "pygments_lexer": "ipython3",
   "version": "3.13.5"
  }
 },
 "nbformat": 4,
 "nbformat_minor": 5
}
