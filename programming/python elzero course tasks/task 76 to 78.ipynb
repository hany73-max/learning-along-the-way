{
 "cells": [
  {
   "cell_type": "code",
   "execution_count": null,
   "id": "6cfde4dd",
   "metadata": {},
   "outputs": [],
   "source": [
    "import random\n",
    "\n",
    "print(f\"random number:  {random.randint(1,100)}\")\n",
    "print(f\"even random number:  {random.choice([x for x in range(2, 11) if x % 2 == 0])}\")\n",
    "print(f\"odd random number:  {random.choice([x for x in range(2, 11) if x % 2 != 0])}\")\n",
    "print(dir(random))"
   ]
  },
  {
   "cell_type": "code",
   "execution_count": null,
   "id": "bdbfbfe5",
   "metadata": {},
   "outputs": [],
   "source": [
    "import sys\n",
    "sys.path.append(r\"D:\\github\\learning-along-the-way\\programming\\python elzero course tasks\\module_testing\")\n",
    "import my_mod\n",
    "print(my_mod.say_hello(\"Hany\"))\n",
    "print(my_mod.say_welcome(\"Hany\"))"
   ]
  },
  {
   "cell_type": "code",
   "execution_count": null,
   "id": "35b57a37",
   "metadata": {},
   "outputs": [],
   "source": [
    "from my_mod import say_hello\n",
    "print(say_hello(\"Hany\"))"
   ]
  },
  {
   "cell_type": "code",
   "execution_count": null,
   "id": "1c903ad3",
   "metadata": {},
   "outputs": [],
   "source": [
    "from my_mod import say_hello as hello\n",
    "print(hello(\"Hany\"))"
   ]
  }
 ],
 "metadata": {
  "kernelspec": {
   "display_name": "Python 3",
   "language": "python",
   "name": "python3"
  },
  "language_info": {
   "codemirror_mode": {
    "name": "ipython",
    "version": 3
   },
   "file_extension": ".py",
   "mimetype": "text/x-python",
   "name": "python",
   "nbconvert_exporter": "python",
   "pygments_lexer": "ipython3",
   "version": "3.13.5"
  }
 },
 "nbformat": 4,
 "nbformat_minor": 5
}
