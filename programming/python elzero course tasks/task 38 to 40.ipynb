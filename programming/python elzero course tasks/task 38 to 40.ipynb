{
 "cells": [
  {
   "cell_type": "code",
   "execution_count": null,
   "id": "340349be",
   "metadata": {},
   "outputs": [],
   "source": [
    "name = input(\"Enter your name: \")\n",
    "\n",
    "print(f\"Hello, {name.strip().capitalize()}! Welcome.\")"
   ]
  },
  {
   "cell_type": "code",
   "execution_count": null,
   "id": "ea094ee2",
   "metadata": {},
   "outputs": [],
   "source": [
    "age = int(input(\"Enter your age: \"))\n",
    "\n",
    "print(age > 16 and \"You are an adult.\" or \"You are a minor.\")      # one way\n",
    "\n",
    "print(\"You are an adult.\" if age > 16 else \"You are a minor.\")     # another way\n",
    "\n",
    "message = [\n",
    "    \"you are a minor \",\n",
    "    f\"you are a adult {age}\"\n",
    "]\n",
    "print(message[age >= 16])                                          # using boolean as index"
   ]
  },
  {
   "cell_type": "code",
   "execution_count": null,
   "id": "72110276",
   "metadata": {},
   "outputs": [],
   "source": [
    "first_name, last_name = input(\"Enter your first and last name: \").split()\n",
    "\n",
    "print(f\" hello {first_name.strip().capitalize()} {last_name.strip().capitalize()[0]}\")"
   ]
  },
  {
   "cell_type": "code",
   "execution_count": null,
   "id": "89096618",
   "metadata": {},
   "outputs": [],
   "source": [
    "email = input(\"Enter your email: \")\n",
    "\n",
    "print(f\"hello {email.strip().lower()[:email.index('@')]}\")\n",
    "\n",
    "print(f\"Email Service Provider Is {email[email.index('@')+1:email.index('.')]}\") \n",
    "\n",
    "print(f\"Email Domain Is {email[email.index('.')+1:]}\")"
   ]
  }
 ],
 "metadata": {
  "kernelspec": {
   "display_name": "Python 3",
   "language": "python",
   "name": "python3"
  },
  "language_info": {
   "codemirror_mode": {
    "name": "ipython",
    "version": 3
   },
   "file_extension": ".py",
   "mimetype": "text/x-python",
   "name": "python",
   "nbconvert_exporter": "python",
   "pygments_lexer": "ipython3",
   "version": "3.13.5"
  }
 },
 "nbformat": 4,
 "nbformat_minor": 5
}
