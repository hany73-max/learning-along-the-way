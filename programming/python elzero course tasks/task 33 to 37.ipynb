{
 "cells": [
  {
   "cell_type": "code",
   "execution_count": null,
   "id": "cfd7a47b",
   "metadata": {},
   "outputs": [],
   "source": [
    "print(bool(0))                             # False\n",
    "print(bool(\"\"))                            # False\n",
    "print(bool([]))                            # False\n",
    "print(bool({}))                            # False\n",
    "\n",
    "print(bool(1))                             # True\n",
    "print(bool(\"Hello\"))                       # True\n",
    "print(bool([1, 2, 3]))                     # True\n",
    "print(bool({\"key\": \"value\"}))              # True"
   ]
  },
  {
   "cell_type": "code",
   "execution_count": null,
   "id": "647fa513",
   "metadata": {},
   "outputs": [],
   "source": [
    "html = 70\n",
    "css = 80\n",
    "js = 90\n",
    "\n",
    "print(html > 50 and css > 50 and js > 50)  # True"
   ]
  },
  {
   "cell_type": "code",
   "execution_count": null,
   "id": "b853d84b",
   "metadata": {},
   "outputs": [],
   "source": [
    "num1 = 10\n",
    "num2 = 20\n",
    "num = 20\n",
    "\n",
    "print(num > num1 or num > num2)  # True\n",
    "print(num > num1 and num > num2)  # True"
   ]
  },
  {
   "cell_type": "code",
   "execution_count": null,
   "id": "a172509e",
   "metadata": {},
   "outputs": [
    {
     "name": "stdout",
     "output_type": "stream",
     "text": [
      "30\n",
      "27000\n",
      "1000.0\n",
      "1.0\n",
      "<class 'str'>\n"
     ]
    }
   ],
   "source": [
    "num1 = 10\n",
    "num2 = 20\n",
    "\n",
    "result = num1 + num2\n",
    "print(result)                  # 30\n",
    "\n",
    "result **= 3\n",
    "print(result)                  # 27000\n",
    "\n",
    "result /= 27\n",
    "print(result)                  # 1000.0\n",
    "\n",
    "result %= 3\n",
    "print(result)                  # 1.0\n",
    "\n",
    "result = str(result)\n",
    "print(type(result))                 # \"1.0\""
   ]
  }
 ],
 "metadata": {
  "kernelspec": {
   "display_name": "Python 3",
   "language": "python",
   "name": "python3"
  },
  "language_info": {
   "codemirror_mode": {
    "name": "ipython",
    "version": 3
   },
   "file_extension": ".py",
   "mimetype": "text/x-python",
   "name": "python",
   "nbconvert_exporter": "python",
   "pygments_lexer": "ipython3",
   "version": "3.13.5"
  }
 },
 "nbformat": 4,
 "nbformat_minor": 5
}
