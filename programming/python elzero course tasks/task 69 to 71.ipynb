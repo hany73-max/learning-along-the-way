{
 "cells": [
  {
   "cell_type": "code",
   "execution_count": null,
   "id": "397cae26",
   "metadata": {},
   "outputs": [],
   "source": [
    "values = (0, 1, 2)\n",
    "\n",
    "if any(values):            # Check if any value is True\n",
    "    my_var = 0             # Assign 0 to my_var if any value is True\n",
    "my_list = [True, 1,  1, [\"A\", \"B\"], 10.5, my_var]               # Create a list with mixed types\n",
    "if all(my_list[:4]) or all(my_list[:6]) or all(my_list[:]):     # Check if all elements in the specified slices are True\n",
    "    print(\"Good\")\n",
    "else:\n",
    "    print(\"Bad\")\n",
    "\n",
    "    # the output will be \"Good\" because all(my_list[:4]) is True and all(my_list[:6]) is also True. and all(my_list[:]) is True as well.\n",
    "    # The list contains True, 1, 1, [\"A\", \"B\"], 10.5, and 0, which are all considered True in Python."
   ]
  },
  {
   "cell_type": "code",
   "execution_count": null,
   "id": "bf2a7dcb",
   "metadata": {},
   "outputs": [],
   "source": [
    "v = 40\n",
    "my_range = [i for i in range(v)]\n",
    "result = sum(my_range, v) + pow(v, v, v)  \n",
    "print(result)"
   ]
  },
  {
   "cell_type": "code",
   "execution_count": null,
   "id": "20caa4a8",
   "metadata": {},
   "outputs": [],
   "source": [
    "n = 21\n",
    "l = [i for i in range(n)]\n",
    "if round(sum(l) / n) == max(0, 3, 10, 2, -100, -23, 9):\n",
    "    print(\"Good\")"
   ]
  },
  {
   "cell_type": "code",
   "execution_count": null,
   "id": "d814e7d1",
   "metadata": {},
   "outputs": [],
   "source": [
    "def my_all(iterable):\n",
    "    for item in iterable:\n",
    "        if not item:\n",
    "            return False\n",
    "    return True\n",
    "\n",
    "def my_any(iterable):\n",
    "    for item in iterable:\n",
    "        if item:\n",
    "            return True\n",
    "    return False\n",
    "\n",
    "def my_sum(iterable, start=0):\n",
    "    total = start\n",
    "    for item in iterable:\n",
    "        total += item\n",
    "    return total\n",
    "\n",
    "def my_pow(base, exp, mod=None):\n",
    "    result = base ** exp\n",
    "    if mod is not None:\n",
    "        result %= mod\n",
    "    return result\n",
    "\n",
    "def my_min(iterable):\n",
    "    min_value = iterable[0]\n",
    "    for item in iterable:\n",
    "        if item < min_value:\n",
    "            min_value = item\n",
    "    return min_value\n",
    "\n",
    "def my_max(iterable):\n",
    "    max_value = iterable[0]\n",
    "    for item in iterable:\n",
    "        if item > max_value:\n",
    "            max_value = item\n",
    "    return max_value\n",
    "\n",
    "nums = [0, 1, 2, 3, 4, 5, 6, 7, 8, 9, 10]\n",
    "\n",
    "print(\"Original set:\", nums)\n",
    "print(\"Minimum value in the set:\", my_min(nums))\n",
    "print(\"Maximum value in the set:\", my_max(nums))\n",
    "print(\"Sum of the set:\", my_sum(nums))\n",
    "print(\"Power of 2^3:\", my_pow(2, 3))\n",
    "print(\"Power of 2^3 with mod 5:\", my_pow(2, 3, 5))\n",
    "print(\"All elements in the set are truthy:\", my_all(nums))\n",
    "print(\"Any element in the set is truthy:\", my_any(nums))\n"
   ]
  }
 ],
 "metadata": {
  "kernelspec": {
   "display_name": "Python 3",
   "language": "python",
   "name": "python3"
  },
  "language_info": {
   "codemirror_mode": {
    "name": "ipython",
    "version": 3
   },
   "file_extension": ".py",
   "mimetype": "text/x-python",
   "name": "python",
   "nbconvert_exporter": "python",
   "pygments_lexer": "ipython3",
   "version": "3.13.5"
  }
 },
 "nbformat": 4,
 "nbformat_minor": 5
}
