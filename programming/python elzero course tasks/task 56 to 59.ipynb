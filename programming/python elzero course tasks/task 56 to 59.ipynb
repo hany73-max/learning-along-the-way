{
 "cells": [
  {
   "cell_type": "code",
   "execution_count": null,
   "id": "41b8ac60",
   "metadata": {},
   "outputs": [],
   "source": [
    "def calculate(num1 , num2 , operation= 'add'):\n",
    "    operation = operation.lower().strip()\n",
    "    num1 = float(num1)\n",
    "    num2 = float(num2)\n",
    "\n",
    "    if operation == 'add' or operation == 'a':\n",
    "        return num1 + num2\n",
    "    elif operation == 'subtract' or operation == 's':\n",
    "        return num1 - num2\n",
    "    elif operation == 'multiply' or operation == 'm':\n",
    "        return num1 * num2\n",
    "    elif operation == 'divide' or operation == 'd':\n",
    "        if num2 != 0:\n",
    "            return num1 / num2\n",
    "        else:\n",
    "            return \"Error: Division by zero is not allowed.\"\n",
    "    else:\n",
    "        return \"Error: Invalid operation specified.\"\n",
    "    \n",
    "\n",
    "num1 = input(\"Enter the first number: \")\n",
    "num2 = input(\"Enter the second number: \")\n",
    "operation = input(\"Enter the operation (add, subtract, multiply, divide): \")\n",
    "result = calculate(num1, num2, operation)\n",
    "print(f\"The result of {operation}ing {num1} and {num2} is: {result}\")"
   ]
  },
  {
   "cell_type": "code",
   "execution_count": null,
   "id": "c4d465ff",
   "metadata": {},
   "outputs": [],
   "source": [
    "def add(*num):\n",
    "    sum = 0\n",
    "    if not num:\n",
    "        return \"Error: No numbers provided to add.\"\n",
    "    for n in num:\n",
    "        if n == 5:\n",
    "            sum -= 5\n",
    "        elif n == 10:\n",
    "            continue\n",
    "        else:\n",
    "            sum += n\n",
    "    return sum\n",
    "\n",
    "num = []\n",
    "while True:\n",
    "    number = input(\"Enter a number to add (or type 'done' to finish): \")\n",
    "    if number.lower() == 'done':\n",
    "        break\n",
    "    try:\n",
    "        num.append(float(number))\n",
    "    except ValueError:\n",
    "        print(\"Invalid input. Please enter a valid number.\")\n",
    "\n",
    "print (\"The sum of the numbers is:\", add(*num))"
   ]
  },
  {
   "cell_type": "code",
   "execution_count": null,
   "id": "0f223d7c",
   "metadata": {},
   "outputs": [],
   "source": [
    "def info(name, *skills):\n",
    "    print(f\"hello: {name} your skills are:\")\n",
    "    for skill in skills:\n",
    "        print(f\"- {skill}\")\n",
    "\n",
    "skills = []\n",
    "name = input(\"Enter your name: \")\n",
    "while True:\n",
    "    skill = input(\"Enter a skill (or type 'done' to finish): \")\n",
    "    if skill.lower() == 'done':\n",
    "        break\n",
    "    skills.append(skill)\n",
    "info(name, *skills)\n"
   ]
  },
  {
   "cell_type": "code",
   "execution_count": null,
   "id": "bb984496",
   "metadata": {},
   "outputs": [],
   "source": [
    "def say_hello(name = \"unknown\", age=\"unknown\", country=\"unknown\"):\n",
    "    print(f\"Hello {name}, you are {age} years old and from {country}.\")\n",
    "    \n",
    "name = input(\"Enter your name (default is 'unknown'): \")\n",
    "age = input(\"Enter your age (default is 'unknown'): \")\n",
    "country = input(\"Enter your country (default is 'unknown'): \")\n",
    "\n",
    "say_hello(name or \"unknown\", age or \"unknown\", country or \"unknown\")\n"
   ]
  }
 ],
 "metadata": {
  "kernelspec": {
   "display_name": "Python 3",
   "language": "python",
   "name": "python3"
  },
  "language_info": {
   "codemirror_mode": {
    "name": "ipython",
    "version": 3
   },
   "file_extension": ".py",
   "mimetype": "text/x-python",
   "name": "python",
   "nbconvert_exporter": "python",
   "pygments_lexer": "ipython3",
   "version": "3.13.5"
  }
 },
 "nbformat": 4,
 "nbformat_minor": 5
}
