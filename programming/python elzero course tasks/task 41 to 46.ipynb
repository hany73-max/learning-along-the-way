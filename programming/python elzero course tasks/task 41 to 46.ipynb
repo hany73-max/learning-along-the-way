{
 "cells": [
  {
   "cell_type": "code",
   "execution_count": null,
   "id": "cb6239ca",
   "metadata": {},
   "outputs": [],
   "source": [
    "num = int(input(\"Enter a number: \").strip())\n",
    "num2 = int(input(\"Enter another number: \").strip())\n",
    "operation = input(\"Enter an operation (+, -, *, /): \").strip()\n",
    "\n",
    "if operation == '+':\n",
    "    result = num + num2\n",
    "elif operation == '-':\n",
    "    result = num - num2\n",
    "elif operation == '*':\n",
    "    result = num * num2\n",
    "elif operation == '/':\n",
    "    if num2 != 0:\n",
    "        result = num / num2\n",
    "    else:\n",
    "        result = \"Error: Division by zero is not allowed.\"\n",
    "else:\n",
    "    result = \"Error: Invalid operation.\"\n",
    "print(\"The result is:\", result)"
   ]
  },
  {
   "cell_type": "code",
   "execution_count": null,
   "id": "d3d31f14",
   "metadata": {},
   "outputs": [],
   "source": [
    "age = int(input(\"Enter your age: \").strip())\n",
    "\n",
    "print(\"u r an adult\" if age >= 18 else \"u r not an adult\")"
   ]
  },
  {
   "cell_type": "code",
   "execution_count": null,
   "id": "cb5bf505",
   "metadata": {},
   "outputs": [],
   "source": [
    "age = int(input(\"Enter your age: \").strip())\n",
    "\n",
    "if age > 0 and age < 100:\n",
    "    age_in_months = age * 12\n",
    "    print(f\"Your age in months is: {age_in_months}\")\n",
    "    age_in_days = age * 365\n",
    "    print(f\"Your age in days is: {age_in_days}\")\n",
    "    age_in_weeks = age * 52\n",
    "    print(f\"Your age in weeks is: {age_in_weeks}\")  \n",
    "    age_in_mins = age * 525600\n",
    "    print(f\"Your age in minutes is: {age_in_mins}\")\n",
    "    age_in_seconds = age * 31536000\n",
    "    print(f\"Your age in seconds is: {age_in_seconds}\")\n",
    "\n",
    "else:\n",
    "    print(\"u ain't human, u r a robot\")"
   ]
  },
  {
   "cell_type": "code",
   "execution_count": 12,
   "id": "be94d83f",
   "metadata": {},
   "outputs": [
    {
     "name": "stdout",
     "output_type": "stream",
     "text": [
      "Welcome to Ghana, your price is 100 EGP\n"
     ]
    }
   ],
   "source": [
    "countries = [\"Egypt\", \"KSA\", \"UAE\", \"Qatar\", \"Kuwait\", \"Oman\", \"Bahrain\"]\n",
    "contry = input(\"Enter a country name: \").strip().capitalize()\n",
    "price = 100\n",
    "discount = 30 \n",
    "\n",
    "if contry in countries:\n",
    "    print(f\"Welcome to {contry}, your price is {price - discount} EGP\")\n",
    "else:\n",
    "    print(f\"Welcome to {contry}, your price is {price} EGP\")"
   ]
  }
 ],
 "metadata": {
  "kernelspec": {
   "display_name": "Python 3",
   "language": "python",
   "name": "python3"
  },
  "language_info": {
   "codemirror_mode": {
    "name": "ipython",
    "version": 3
   },
   "file_extension": ".py",
   "mimetype": "text/x-python",
   "name": "python",
   "nbconvert_exporter": "python",
   "pygments_lexer": "ipython3",
   "version": "3.13.5"
  }
 },
 "nbformat": 4,
 "nbformat_minor": 5
}
