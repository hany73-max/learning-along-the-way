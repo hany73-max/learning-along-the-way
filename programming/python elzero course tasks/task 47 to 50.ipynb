{
 "cells": [
  {
   "cell_type": "code",
   "execution_count": null,
   "id": "723a0503",
   "metadata": {},
   "outputs": [],
   "source": [
    "num = int(input(\"Enter a number: \"))\n",
    "count = 0\n",
    "\n",
    "while num > 0:\n",
    "    num -= 1\n",
    "    if num == 6:\n",
    "        continue\n",
    "    elif num == 0:\n",
    "        print(\"Countdown complete!\")\n",
    "        break\n",
    "    print(num)\n",
    "    count += 1\n",
    "print(f\"Total numbers printed: {count}\")\n"
   ]
  },
  {
   "cell_type": "code",
   "execution_count": null,
   "id": "51a33dba",
   "metadata": {},
   "outputs": [],
   "source": [
    "names = [\"Alice\", \"bob\", \"Charlie\", \"david\", \"Eve\", \"Frank\"]\n",
    "count = 0\n",
    "\n",
    "while names:\n",
    "    name = names.pop(0)\n",
    "    if name[0].islower():\n",
    "        count += 1\n",
    "        continue\n",
    "    print(f\"Hello, {name}!\")\n",
    "\n",
    "print(f\"Total names processed: {count}\")"
   ]
  },
  {
   "cell_type": "code",
   "execution_count": null,
   "id": "71393d3f",
   "metadata": {},
   "outputs": [],
   "source": [
    "skills = [\"Python\", \"Java\", \"C++\", \"JavaScript\", \"Ruby\"]\n",
    "\n",
    "while skills:\n",
    "    print(f\"Skill: {skills.pop(0)}\")            # how this line works (removes the first skill from the list then prints it)"
   ]
  },
  {
   "cell_type": "code",
   "execution_count": null,
   "id": "8275a4fa",
   "metadata": {},
   "outputs": [],
   "source": [
    "names = []\n",
    "additions = 4\n",
    "while additions > 0:\n",
    "    name = input(\"Enter a name (or 'exit' to stop): \").strip()\n",
    "    if name.isupper():\n",
    "        print(\"invalid name, please enter a lowercase name.\")\n",
    "        break\n",
    "    elif name.islower():\n",
    "        name = name.capitalize()\n",
    "        print(f\"Name added: {name} (uppercase first letter)\")\n",
    "    names.append(name)\n",
    "    additions -= 1\n",
    "print(f\"Names entered: {names}\")\n",
    "print (f\"name enteries left: {additions}\")"
   ]
  }
 ],
 "metadata": {
  "kernelspec": {
   "display_name": "Python 3",
   "language": "python",
   "name": "python3"
  },
  "language_info": {
   "codemirror_mode": {
    "name": "ipython",
    "version": 3
   },
   "file_extension": ".py",
   "mimetype": "text/x-python",
   "name": "python",
   "nbconvert_exporter": "python",
   "pygments_lexer": "ipython3",
   "version": "3.13.5"
  }
 },
 "nbformat": 4,
 "nbformat_minor": 5
}
