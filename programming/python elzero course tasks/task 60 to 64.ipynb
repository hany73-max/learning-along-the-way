{
 "cells": [
  {
   "cell_type": "code",
   "execution_count": null,
   "id": "03b3c1ad",
   "metadata": {},
   "outputs": [],
   "source": [
    "def get_score(**scores):\n",
    "    for key , value in scores.items():\n",
    "        print (f\"{key} => {value}\")\n",
    "\n",
    "get_score(Math=90, Science=80, Language=70)"
   ]
  },
  {
   "cell_type": "code",
   "execution_count": null,
   "id": "811085d9",
   "metadata": {},
   "outputs": [],
   "source": [
    "def info(name=None , **skills):\n",
    "\n",
    "    if not skills:\n",
    "        print(\"No skills provided.\")\n",
    "        return\n",
    "    \n",
    "    elif name is None:       \n",
    "        print(\"No name provided.\") \n",
    "        return  \n",
    "\n",
    "    else:\n",
    "        for key , value in skills.items():\n",
    "            print(f\"{key} => {value}\")\n",
    "\n",
    "info(\"Osama\", Math=90, Science=80, Language=70)\n",
    "print(\"=\" * 30)\n",
    "info(\"Mahmoud\", Logic=70, Problems=60)\n",
    "print(\"=\" * 30)\n",
    "info(Logic=70, Problems=60)\n",
    "print(\"=\" * 30)\n",
    "info(\"hany\")"
   ]
  },
  {
   "cell_type": "code",
   "execution_count": 19,
   "id": "061aa864",
   "metadata": {},
   "outputs": [
    {
     "name": "stdout",
     "output_type": "stream",
     "text": [
      "hello Osama\n",
      "math => 90%\n",
      "science => 80%\n",
      "language => 70%\n",
      "==============================\n",
      "math => 90%\n",
      "science => 80%\n",
      "language => 70%\n",
      "==============================\n",
      "Osama: No skills provided. \n"
     ]
    }
   ],
   "source": [
    "def info_2(name=None, **skills):\n",
    "    if not skills:\n",
    "        print(f\"{name}: No skills provided. \")\n",
    "        return\n",
    "    \n",
    "    elif name is None:       \n",
    "        for key, value in skills.items():\n",
    "            print(f\"{key} => {value}\")\n",
    "\n",
    "    else:\n",
    "        print(f\"hello {name}\")\n",
    "        for key, value in skills.items():\n",
    "            print(f\"{key} => {value}\")      \n",
    "\n",
    "scores_list = {\"math\" : \"90%\", \"science\": \"80%\", \"language\": \"70%\"}\n",
    "\n",
    "info_2(\"Osama\", **scores_list)\n",
    "print(\"=\" * 30)\n",
    "info_2(**scores_list)\n",
    "print(\"=\" * 30)\n",
    "info_2(\"Osama\")"
   ]
  }
 ],
 "metadata": {
  "kernelspec": {
   "display_name": "Python 3",
   "language": "python",
   "name": "python3"
  },
  "language_info": {
   "codemirror_mode": {
    "name": "ipython",
    "version": 3
   },
   "file_extension": ".py",
   "mimetype": "text/x-python",
   "name": "python",
   "nbconvert_exporter": "python",
   "pygments_lexer": "ipython3",
   "version": "3.13.5"
  }
 },
 "nbformat": 4,
 "nbformat_minor": 5
}
