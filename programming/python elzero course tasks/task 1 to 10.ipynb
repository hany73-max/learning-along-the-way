{
 "cells": [
  {
   "cell_type": "code",
   "execution_count": null,
   "id": "3c36327a",
   "metadata": {},
   "outputs": [],
   "source": [
    "# tasks from 1 to 10"
   ]
  },
  {
   "cell_type": "code",
   "execution_count": null,
   "id": "945c0f78",
   "metadata": {},
   "outputs": [],
   "source": [
    "name = \"hany\"\n",
    "age = 20\n",
    "country = \"Egypt\""
   ]
  },
  {
   "cell_type": "code",
   "execution_count": null,
   "id": "76cc848d",
   "metadata": {},
   "outputs": [],
   "source": [
    "print (f\"name: {name},\\nage: {age},\\ncountry: {country}\")"
   ]
  },
  {
   "cell_type": "code",
   "execution_count": null,
   "id": "4a2f3f70",
   "metadata": {},
   "outputs": [],
   "source": [
    "print (name + \" \" + str(age) + \" \" + country)"
   ]
  },
  {
   "cell_type": "code",
   "execution_count": null,
   "id": "5ec07e4b",
   "metadata": {},
   "outputs": [],
   "source": [
    "print (type(name))\n",
    "print (type(age))\n",
    "print (type(country))"
   ]
  },
  {
   "cell_type": "code",
   "execution_count": null,
   "id": "6d836fe8",
   "metadata": {},
   "outputs": [],
   "source": [
    "print (type(name))\n",
    "print (type(age))\n",
    "print (type(country))"
   ]
  }
 ],
 "metadata": {
  "kernelspec": {
   "display_name": "Python 3",
   "language": "python",
   "name": "python3"
  },
  "language_info": {
   "codemirror_mode": {
    "name": "ipython",
    "version": 3
   },
   "file_extension": ".py",
   "mimetype": "text/x-python",
   "name": "python",
   "nbconvert_exporter": "python",
   "pygments_lexer": "ipython3",
   "version": "3.13.5"
  }
 },
 "nbformat": 4,
 "nbformat_minor": 5
}
