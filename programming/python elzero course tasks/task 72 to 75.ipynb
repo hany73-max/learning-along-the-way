{
 "cells": [
  {
   "cell_type": "code",
   "execution_count": null,
   "id": "8c0e3aa6",
   "metadata": {},
   "outputs": [],
   "source": [
    "names = [\"AEmanS\", \"AAhmedS\", \"DSamehF\", \"LOsamaL\"]\n",
    "\n",
    "def remove_chars(*names):\n",
    "    for name in names:\n",
    "        name = name[1:-1]\n",
    "    return name\n",
    "\n",
    "formatted_data = list(map(remove_chars , names))\n",
    "for name in formatted_data:\n",
    "    print(name)\n",
    "\n",
    "print(\"-----\")\n",
    "\n",
    "formatted_data2 = list(map(lambda name : name[1:-1]  , names))\n",
    "for name in formatted_data2:\n",
    "    print(name)\n"
   ]
  },
  {
   "cell_type": "code",
   "execution_count": null,
   "id": "52f78980",
   "metadata": {},
   "outputs": [],
   "source": [
    "names2 = [\"Osama\", \"Wessam\", \"Amal\", \"Essam\", \"Gamal\", \"Othman\"]\n",
    "\n",
    "def filter_function(*names2):\n",
    "    for name in names2:\n",
    "        return name.endswith(\"m\")\n",
    "    \n",
    "filtered_names = list(filter(filter_function, names2))\n",
    "for name in filtered_names:\n",
    "    print(name)\n",
    "\n",
    "print(\"-----\")\n",
    "\n",
    "filtered_names2 = list(filter(lambda name: name.endswith(\"m\"), names2))\n",
    "for name in filtered_names2:    \n",
    "    print(name)\n"
   ]
  },
  {
   "cell_type": "code",
   "execution_count": null,
   "id": "b21db3ce",
   "metadata": {},
   "outputs": [],
   "source": [
    "from functools import reduce\n",
    "\n",
    "random_numbers = [2, 5, 6, 4] \n",
    "\n",
    "def multiplication_func(*random_numbers):\n",
    "    result = 1\n",
    "    for num in random_numbers:\n",
    "        result *= num\n",
    "    return result\n",
    "\n",
    "result = reduce(multiplication_func , random_numbers)\n",
    "print(result)\n",
    "\n",
    "print(\"-----\")\n",
    "\n",
    "result2 = reduce(lambda x, y: x * y, random_numbers)\n",
    "print(result2)"
   ]
  },
  {
   "cell_type": "code",
   "execution_count": null,
   "id": "dad35110",
   "metadata": {},
   "outputs": [],
   "source": [
    "skills = (\"HTML\", \"CSS\", 10, \"PHP\", \"Python\", 20, \"JavaScript\")\n",
    "\n",
    "enumerated_skills = list(enumerate(reversed(skills), start=50))\n",
    "for index, skill in enumerated_skills:\n",
    "    if isinstance(skill, int):\n",
    "        continue\n",
    "    print(f\"{index} - {skill}\")\n",
    "\n",
    "print(\"-----\")\n",
    "\n",
    "for skill in range(len(skills) - 1, -1, -1):\n",
    "    if isinstance(skills[skill], int):\n",
    "        continue\n",
    "    print(f\"{50 + skill} - {skills[skill]}\")"
   ]
  }
 ],
 "metadata": {
  "kernelspec": {
   "display_name": "Python 3",
   "language": "python",
   "name": "python3"
  },
  "language_info": {
   "codemirror_mode": {
    "name": "ipython",
    "version": 3
   },
   "file_extension": ".py",
   "mimetype": "text/x-python",
   "name": "python",
   "nbconvert_exporter": "python",
   "pygments_lexer": "ipython3",
   "version": "3.13.5"
  }
 },
 "nbformat": 4,
 "nbformat_minor": 5
}
