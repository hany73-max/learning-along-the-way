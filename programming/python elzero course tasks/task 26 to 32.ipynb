{
 "cells": [
  {
   "cell_type": "code",
   "execution_count": null,
   "id": "973fe245",
   "metadata": {},
   "outputs": [],
   "source": [
    "mylist = [1, 2, 3, 3, 4, 5, 1]\n",
    "\n",
    "unique_list = list(set(mylist))\n",
    "print(\"Original list:\", mylist)\n",
    "print(\"Unique list:\", unique_list)\n",
    "\n",
    "print(type(unique_list))\n",
    "\n",
    "print(unique_list[0:-1])"
   ]
  },
  {
   "cell_type": "code",
   "execution_count": null,
   "id": "0ecdd70a",
   "metadata": {},
   "outputs": [],
   "source": [
    "myset = {1, 2, 3}\n",
    "myset_2 = {\"four\", \"five\", \"sex\"}\n",
    "\n",
    "print(myset_2.union(myset))\n",
    "\n",
    "myset.update(myset_2)\n",
    "print(myset)\n",
    "\n",
    "set_operator = myset | myset_2\n",
    "print(set_operator)"
   ]
  },
  {
   "cell_type": "code",
   "execution_count": null,
   "id": "a37c8f0b",
   "metadata": {},
   "outputs": [],
   "source": [
    "print(myset)\n",
    "\n",
    "myset.clear()\n",
    "print(myset)\n",
    "\n",
    "myset.add(\"a\")\n",
    "myset.add(\"b\")\n",
    "print(myset)\n",
    "\n",
    "myset.discard(\"c\")\n",
    "print(myset)"
   ]
  },
  {
   "cell_type": "code",
   "execution_count": null,
   "id": "305111db",
   "metadata": {},
   "outputs": [],
   "source": [
    "set_1 = {1, 2, 3}\n",
    "set_2 = {1, 2, 3, 4, 5}\n",
    "\n",
    "print(set_1.issubset(set_2))\n",
    "print(set_2.issuperset(set_1))"
   ]
  },
  {
   "cell_type": "code",
   "execution_count": null,
   "id": "1489638a",
   "metadata": {},
   "outputs": [],
   "source": [
    "my_dict = {\"pyhton\": \"50%\",\n",
    "            \"java\": \"70%\",\n",
    "            \"c++\": \"85%\"}\n",
    "\n",
    "print(f\"pyhton score is {my_dict['pyhton']}\")\n",
    "print(f\"java score is {my_dict['java']}\")\n",
    "print(f\"c++ score is {my_dict['c++']}\")\n",
    "\n",
    "my_dict[\"c#\"] = \"90%\"\n",
    "print(f\"c# score is {my_dict['c#']}\")"
   ]
  }
 ],
 "metadata": {
  "kernelspec": {
   "display_name": "Python 3",
   "language": "python",
   "name": "python3"
  },
  "language_info": {
   "codemirror_mode": {
    "name": "ipython",
    "version": 3
   },
   "file_extension": ".py",
   "mimetype": "text/x-python",
   "name": "python",
   "nbconvert_exporter": "python",
   "pygments_lexer": "ipython3",
   "version": "3.13.5"
  }
 },
 "nbformat": 4,
 "nbformat_minor": 5
}
